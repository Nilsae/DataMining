{
 "cells": [
  {
   "cell_type": "code",
   "execution_count": 55,
   "id": "6afbd26d",
   "metadata": {},
   "outputs": [],
   "source": [
    "import pandas as pd\n",
    "import numpy as np\n",
    "from sklearn.model_selection import train_test_split"
   ]
  },
  {
   "cell_type": "code",
   "execution_count": 56,
   "id": "139f1136",
   "metadata": {},
   "outputs": [],
   "source": [
    "df = pd.read_csv(\"data/Iris.csv\")\n",
    "df = df.drop('Unnamed: 0', axis=1)\n",
    "y_col = 'Class'\n",
    "y = df[y_col]\n",
    "X = df[df.columns.drop(y_col)]\n",
    "X_train, X_test, y_train, y_test = train_test_split(X,y, test_size=0.2, shuffle= True, random_state=42)"
   ]
  },
  {
   "cell_type": "code",
   "execution_count": 57,
   "id": "ae0db965",
   "metadata": {},
   "outputs": [],
   "source": [
    "from sklearn import preprocessing"
   ]
  },
  {
   "cell_type": "code",
   "execution_count": 58,
   "id": "5e987e73",
   "metadata": {},
   "outputs": [],
   "source": [
    "from sklearn.preprocessing import StandardScaler  \n",
    "sc=StandardScaler()\n",
    "scaler = sc.fit(X_train)\n",
    "X_train_scaled = scaler.transform(X_train)\n",
    "X_test_scaled = scaler.transform(X_test)"
   ]
  },
  {
   "cell_type": "markdown",
   "id": "e9192232",
   "metadata": {},
   "source": [
    "1"
   ]
  },
  {
   "cell_type": "code",
   "execution_count": 59,
   "id": "f0e2c8ee",
   "metadata": {},
   "outputs": [],
   "source": [
    "from sklearn.neighbors import KDTree\n",
    "from sklearn.metrics import accuracy_score"
   ]
  },
  {
   "cell_type": "code",
   "execution_count": 60,
   "id": "1c6b3b9a",
   "metadata": {},
   "outputs": [
    {
     "name": "stdout",
     "output_type": "stream",
     "text": [
      "accuracy score for k=1:  1.0\n",
      "accuracy score for k=2:  1.0\n",
      "accuracy score for k=3:  1.0\n",
      "accuracy score for k=4:  1.0\n",
      "accuracy score for k=5:  1.0\n",
      "accuracy score for k=6:  1.0\n",
      "accuracy score for k=7:  0.9666666666666667\n",
      "accuracy score for k=8:  1.0\n",
      "accuracy score for k=9:  1.0\n",
      "accuracy score for k=10:  1.0\n",
      "accuracy score for k=11:  1.0\n",
      "accuracy score for k=12:  1.0\n",
      "accuracy score for k=13:  1.0\n",
      "accuracy score for k=14:  1.0\n",
      "accuracy score for k=15:  1.0\n",
      "accuracy score for k=16:  1.0\n",
      "accuracy score for k=17:  1.0\n",
      "accuracy score for k=18:  1.0\n",
      "accuracy score for k=19:  1.0\n",
      "accuracy score for k=20:  1.0\n",
      "accuracy score for k=21:  1.0\n",
      "accuracy score for k=22:  1.0\n",
      "accuracy score for k=23:  1.0\n",
      "accuracy score for k=24:  1.0\n",
      "accuracy score for k=25:  1.0\n",
      "accuracy score for k=26:  1.0\n",
      "accuracy score for k=27:  1.0\n",
      "accuracy score for k=28:  1.0\n",
      "accuracy score for k=29:  1.0\n",
      "accuracy score for k=30:  1.0\n"
     ]
    }
   ],
   "source": [
    "def most_frequent(List : list):\n",
    "    return max(set(List), key = List.count)\n",
    "\n",
    "arr_error=[]\n",
    "kdtree = KDTree(X_train)\n",
    "for kval in range(1,31):\n",
    "    dist, ind = kdtree.query(X_test,k=kval)\n",
    "    test_pred=[]\n",
    "    for row in ind:\n",
    "        res = most_frequent(y_train.loc[y_train.index[row]].tolist())\n",
    "        test_pred.append(res)\n",
    "    test_pred = pd.DataFrame(test_pred)\n",
    "    print(f\"accuracy score for k={kval}: \",accuracy_score(test_pred,y_test))\n",
    "    arr_error.append(1 - accuracy_score(test_pred,y_test))"
   ]
  },
  {
   "cell_type": "code",
   "execution_count": 61,
   "id": "ef2e3f01",
   "metadata": {
    "scrolled": true
   },
   "outputs": [
    {
     "data": {
      "image/png": "[encoded data removed]",
      "text/plain": [
       "<Figure size 640x480 with 1 Axes>"
      ]
     },
     "metadata": {},
     "output_type": "display_data"
    }
   ],
   "source": [
    "import matplotlib.pyplot as plt\n",
    "X_error = [i for i in arr_error]\n",
    "Y_error = [i for i in range (1,31)]\n",
    "\n",
    "plt.plot(X_error, Y_error)\n",
    "plt.xlabel('error rate')\n",
    "plt.ylabel('k')\n",
    "#     plt.title('My first graph!')\n",
    "plt.show()"
   ]
  },
  {
   "cell_type": "markdown",
   "id": "03f3d679",
   "metadata": {},
   "source": [
    "The error rate is zero in all k-values except for 7, which has a very tiny error rate."
   ]
  },
  {
   "cell_type": "markdown",
   "id": "673244e7",
   "metadata": {},
   "source": [
    "2"
   ]
  },
  {
   "cell_type": "code",
   "execution_count": 62,
   "id": "be16e916",
   "metadata": {},
   "outputs": [
    {
     "name": "stdout",
     "output_type": "stream",
     "text": [
      "accuracy score for k=1:  1.0\n",
      "accuracy score for k=2:  1.0\n",
      "accuracy score for k=3:  1.0\n",
      "accuracy score for k=4:  1.0\n",
      "accuracy score for k=5:  1.0\n",
      "accuracy score for k=6:  1.0\n",
      "accuracy score for k=7:  1.0\n",
      "accuracy score for k=8:  1.0\n",
      "accuracy score for k=9:  1.0\n",
      "accuracy score for k=10:  1.0\n",
      "accuracy score for k=11:  1.0\n",
      "accuracy score for k=12:  1.0\n",
      "accuracy score for k=13:  1.0\n",
      "accuracy score for k=14:  1.0\n",
      "accuracy score for k=15:  1.0\n",
      "accuracy score for k=16:  1.0\n",
      "accuracy score for k=17:  1.0\n",
      "accuracy score for k=18:  1.0\n",
      "accuracy score for k=19:  1.0\n",
      "accuracy score for k=20:  1.0\n",
      "accuracy score for k=21:  1.0\n",
      "accuracy score for k=22:  1.0\n",
      "accuracy score for k=23:  1.0\n",
      "accuracy score for k=24:  1.0\n",
      "accuracy score for k=25:  1.0\n",
      "accuracy score for k=26:  1.0\n",
      "accuracy score for k=27:  1.0\n",
      "accuracy score for k=28:  1.0\n",
      "accuracy score for k=29:  1.0\n",
      "accuracy score for k=30:  1.0\n"
     ]
    }
   ],
   "source": [
    "from sklearn.neighbors import BallTree\n",
    "arr_error=[]\n",
    "\n",
    "balltree = BallTree(X_train)\n",
    "\n",
    "for kval in range(1,31):\n",
    "    dist, ind = balltree.query(X_test,k=kval)\n",
    "    test_pred=[]\n",
    "    for row in query_indices:\n",
    "        res = most_frequent(y_train.loc[y_train.index[row]].tolist())\n",
    "        test_pred.append(res)\n",
    "    test_pred = pd.DataFrame(test_pred)\n",
    "    print(f\"accuracy score for k={kval}: \",accuracy_score(test_pred,y_test))\n",
    "    arr_error.append(1 - accuracy_score(test_pred,y_test))\n"
   ]
  },
  {
   "cell_type": "code",
   "execution_count": 63,
   "id": "79b7aa47",
   "metadata": {},
   "outputs": [
    {
     "data": {
      "image/png": "[encoded data removed]",
      "text/plain": [
       "<Figure size 640x480 with 1 Axes>"
      ]
     },
     "metadata": {},
     "output_type": "display_data"
    }
   ],
   "source": [
    "X_error = [i for i in arr_error]\n",
    "Y_error = [i for i in range (1,31)]\n",
    "\n",
    "plt.plot(X_error, Y_error)\n",
    "plt.xlabel('error rate')\n",
    "plt.ylabel('k')\n",
    "#     plt.title('My first graph!')\n",
    "plt.show()"
   ]
  },
  {
   "cell_type": "markdown",
   "id": "fc267343",
   "metadata": {},
   "source": [
    "Ball tree returned all of the predictions accurately :)"
   ]
  },
  {
   "cell_type": "markdown",
   "id": "178065e0",
   "metadata": {},
   "source": [
    "    KD-tree (K-Dimensional Tree): KD-tree is a binary tree that partitions the data points along the median of a selected axis at each level of the tree. The axis to split is chosen alternately as the tree is built, typically starting with the axis that has the largest variance in the data. The median value along the selected axis is used as the splitting value, creating two child nodes representing points smaller and larger than the median along that axis. This process is recursively applied until each node contains only one data point, resulting in a balanced tree.\n",
    "\n",
    "    Ball tree (Bounding Ball Tree): Ball tree is a binary tree where each node represents a bounding sphere that encloses a set of data points. The data points are partitioned into two disjoint subsets based on their distance to the centroid of the bounding sphere. The centroid is calculated as the average of the data points within the bounding sphere, and the radius is set to the maximum distance from the centroid to any data point within the bounding sphere. The bounding sphere is split into two child nodes, each containing a subset of the data points based on their distances to the centroid. This process is recursively applied until each node contains a small number of data points or a maximum depth is reached, resulting in a balanced or near-balanced tree.\n",
    "Both KD-tree and Ball tree allow for efficient search and retrieval operations by recursively partitioning the data points in a way that enables pruning of unnecessary subtrees during queries. The choice of splitting axis or splitting value in KD-tree, and the centroid and radius in Ball tree, determines the shape and size of the partitions, which affects the efficiency of the data structure in terms of construction time, query time, space efficiency, and handling of high-dimensional data."
   ]
  },
  {
   "cell_type": "markdown",
   "id": "23915e80",
   "metadata": {},
   "source": [
    " KD-tree is generally preferred for low-dimensional data and faster construction time, while Ball tree is often preferred for high-dimensional data and faster query time. "
   ]
  }
 ],
 "metadata": {
  "kernelspec": {
   "display_name": "Python 3 (ipykernel)",
   "language": "python",
   "name": "python3"
  },
  "language_info": {
   "codemirror_mode": {
    "name": "ipython",
    "version": 3
   },
   "file_extension": ".py",
   "mimetype": "text/x-python",
   "name": "python",
   "nbconvert_exporter": "python",
   "pygments_lexer": "ipython3",
   "version": "3.10.6"
  }
 },
 "nbformat": 4,
 "nbformat_minor": 5
}
