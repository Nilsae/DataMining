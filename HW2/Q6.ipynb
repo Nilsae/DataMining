{
 "cells": [
  {
   "cell_type": "code",
   "execution_count": 1,
   "id": "25fe64ef",
   "metadata": {},
   "outputs": [],
   "source": [
    "import pandas as pd\n",
    "import numpy as np"
   ]
  },
  {
   "cell_type": "code",
   "execution_count": 2,
   "id": "cb7a8ade",
   "metadata": {},
   "outputs": [],
   "source": [
    "df = pd.read_csv(\"data/Iris.csv\")"
   ]
  },
  {
   "cell_type": "code",
   "execution_count": 3,
   "id": "849eff75",
   "metadata": {},
   "outputs": [
    {
     "data": {
      "text/html": [
       "<div>\n",
       "<style scoped>\n",
       "    .dataframe tbody tr th:only-of-type {\n",
       "        vertical-align: middle;\n",
       "    }\n",
       "\n",
       "    .dataframe tbody tr th {\n",
       "        vertical-align: top;\n",
       "    }\n",
       "\n",
       "    .dataframe thead th {\n",
       "        text-align: right;\n",
       "    }\n",
       "</style>\n",
       "<table border=\"1\" class=\"dataframe\">\n",
       "  <thead>\n",
       "    <tr style=\"text-align: right;\">\n",
       "      <th></th>\n",
       "      <th>Unnamed: 0</th>\n",
       "      <th>Class</th>\n",
       "      <th>Petal length</th>\n",
       "      <th>Sepal length</th>\n",
       "      <th>Sepal width</th>\n",
       "      <th>Petal width</th>\n",
       "    </tr>\n",
       "  </thead>\n",
       "  <tbody>\n",
       "    <tr>\n",
       "      <th>0</th>\n",
       "      <td>0</td>\n",
       "      <td>1</td>\n",
       "      <td>51</td>\n",
       "      <td>35</td>\n",
       "      <td>14</td>\n",
       "      <td>2</td>\n",
       "    </tr>\n",
       "    <tr>\n",
       "      <th>1</th>\n",
       "      <td>1</td>\n",
       "      <td>1</td>\n",
       "      <td>49</td>\n",
       "      <td>30</td>\n",
       "      <td>14</td>\n",
       "      <td>2</td>\n",
       "    </tr>\n",
       "    <tr>\n",
       "      <th>2</th>\n",
       "      <td>2</td>\n",
       "      <td>1</td>\n",
       "      <td>47</td>\n",
       "      <td>32</td>\n",
       "      <td>13</td>\n",
       "      <td>2</td>\n",
       "    </tr>\n",
       "    <tr>\n",
       "      <th>3</th>\n",
       "      <td>3</td>\n",
       "      <td>1</td>\n",
       "      <td>46</td>\n",
       "      <td>31</td>\n",
       "      <td>15</td>\n",
       "      <td>2</td>\n",
       "    </tr>\n",
       "    <tr>\n",
       "      <th>4</th>\n",
       "      <td>4</td>\n",
       "      <td>1</td>\n",
       "      <td>50</td>\n",
       "      <td>36</td>\n",
       "      <td>14</td>\n",
       "      <td>2</td>\n",
       "    </tr>\n",
       "  </tbody>\n",
       "</table>\n",
       "</div>"
      ],
      "text/plain": [
       "   Unnamed: 0  Class  Petal length  Sepal length  Sepal width  Petal width\n",
       "0           0      1            51            35           14            2\n",
       "1           1      1            49            30           14            2\n",
       "2           2      1            47            32           13            2\n",
       "3           3      1            46            31           15            2\n",
       "4           4      1            50            36           14            2"
      ]
     },
     "execution_count": 3,
     "metadata": {},
     "output_type": "execute_result"
    }
   ],
   "source": [
    "df.head()"
   ]
  },
  {
   "cell_type": "code",
   "execution_count": 4,
   "id": "7d3da6af",
   "metadata": {},
   "outputs": [
    {
     "data": {
      "text/plain": [
       "Index(['Unnamed: 0', 'Class', 'Petal length', 'Sepal length', 'Sepal width',\n",
       "       'Petal width'],\n",
       "      dtype='object')"
      ]
     },
     "execution_count": 4,
     "metadata": {},
     "output_type": "execute_result"
    }
   ],
   "source": [
    "df.columns"
   ]
  },
  {
   "cell_type": "code",
   "execution_count": 5,
   "id": "de7af39e",
   "metadata": {},
   "outputs": [],
   "source": [
    "df = df.drop('Unnamed: 0', axis=1)"
   ]
  },
  {
   "cell_type": "code",
   "execution_count": 6,
   "id": "3affcc31",
   "metadata": {},
   "outputs": [],
   "source": [
    "y_col = 'Class'\n",
    "y = df[y_col]\n",
    "X = df[df.columns.drop(y_col)]"
   ]
  },
  {
   "cell_type": "code",
   "execution_count": 7,
   "id": "35a6493d",
   "metadata": {},
   "outputs": [],
   "source": [
    "    # from sklearn.model_selection import train_test_split\n",
    "# X_train, X_test, y_train, y_test = train_test_split(X,y, test_size=0.2, random_state=42)"
   ]
  },
  {
   "cell_type": "code",
   "execution_count": 8,
   "id": "efe1eea0",
   "metadata": {},
   "outputs": [
    {
     "name": "stdout",
     "output_type": "stream",
     "text": [
      "[[1. 0. 0.]\n",
      " [0. 0. 0.]\n",
      " [4. 0. 0.]]\n"
     ]
    }
   ],
   "source": [
    "a = np.zeros((3, 3))\n",
    "a[0][0] = a[0][0] + 1\n",
    "a[2][0] = 4\n",
    "print(a)"
   ]
  },
  {
   "cell_type": "code",
   "execution_count": 9,
   "id": "6df665b3",
   "metadata": {
    "scrolled": true
   },
   "outputs": [],
   "source": [
    "from sklearn.model_selection import LeaveOneOut \n",
    "from sklearn import svm\n",
    "# from sklearn.metrics import confusion_matrix\n",
    "loo = LeaveOneOut()\n",
    "loo.get_n_splits(X)\n",
    "confusion_matrix = np.zeros((3, 3))\n",
    "for train_id, test_id in loo.split(X,y):\n",
    "        X_train, X_test, y_train, y_test = X.loc[train_id], X.loc[test_id], y.loc[train_id],y.loc[test_id]\n",
    "        clf = svm.LinearSVC(C=0.1,max_iter=100000).fit(X_train, y_train) # Train an SVM\n",
    "        y_test_pred = clf.predict(X_test)\n",
    "        if y_test.iloc[0] == y_test_pred:\n",
    "            if y_test.iloc[0] == 1:\n",
    "                confusion_matrix[0][0] = confusion_matrix[0][0] + 1\n",
    "            elif y_test.iloc[0] == 2:\n",
    "                confusion_matrix[1][1] = confusion_matrix[1][1] + 1\n",
    "            else: \n",
    "                confusion_matrix[2][2] = confusion_matrix[2][2] + 1\n",
    "        else:\n",
    "            if y_test.iloc[0] == 1 and y_test_pred == 2:\n",
    "                confusion_matrix[1][0] = confusion_matrix[1][0] + 1\n",
    "            elif y_test.iloc[0] == 1 and y_test_pred == 3:\n",
    "                confusion_matrix[2][0] = confusion_matrix[2][0] + 1\n",
    "            elif y_test.iloc[0] == 2 and y_test_pred == 3:\n",
    "                confusion_matrix[2][1] = confusion_matrix[2][1] + 1\n",
    "            elif y_test.iloc[0] == 2 and y_test_pred == 1:\n",
    "                confusion_matrix[0][1] = confusion_matrix[0][1] + 1\n",
    "            elif y_test.iloc[0] == 3 and y_test_pred == 1:\n",
    "                confusion_matrix[0][2] = confusion_matrix[0][2] + 1\n",
    "            elif y_test.iloc[0] == 3 and y_test_pred == 2:\n",
    "                confusion_matrix[1][2] = confusion_matrix[1][2] + 1\n",
    "                                                            \n",
    "        "
   ]
  },
  {
   "cell_type": "code",
   "execution_count": 10,
   "id": "0e31b071",
   "metadata": {},
   "outputs": [
    {
     "data": {
      "text/plain": [
       "array([[50.,  0.,  0.],\n",
       "       [ 0., 46.,  3.],\n",
       "       [ 0.,  4., 47.]])"
      ]
     },
     "execution_count": 10,
     "metadata": {},
     "output_type": "execute_result"
    }
   ],
   "source": [
    "confusion_matrix\n",
    "# df['Class'].values\n",
    "# import seaborn as sn\n",
    "# import matplotlib.pyplot as plt\n",
    "# confusion_matrix = pd.crosstab(y_test,y_test_pred, rownames=['Actual'], colnames=['Predicted'])\n",
    "# "
   ]
  },
  {
   "cell_type": "code",
   "execution_count": 13,
   "id": "6a000841",
   "metadata": {
    "scrolled": true
   },
   "outputs": [
    {
     "data": {
      "image/png": "[encoded data removed]",
      "text/plain": [
       "<Figure size 640x480 with 2 Axes>"
      ]
     },
     "metadata": {},
     "output_type": "display_data"
    }
   ],
   "source": [
    "import seaborn as sn\n",
    "import matplotlib.pyplot as plt\n",
    "sn.heatmap(confusion_matrix, annot=True)\n",
    "plt.show()"
   ]
  },
  {
   "cell_type": "markdown",
   "id": "ae9dc76d",
   "metadata": {},
   "source": [
    "The confusion matrix shows a very good training. All of the records with label 0 are accurately predited, and respectively, 92 and 94 percent of the records belonging to classes  1 and 2 are predicted accurately. This results in a total accuracy of 95.3 percent."
   ]
  },
  {
   "cell_type": "markdown",
   "id": "feb7852e",
   "metadata": {},
   "source": [
    "1"
   ]
  },
  {
   "cell_type": "code",
   "execution_count": 32,
   "id": "0a86225a",
   "metadata": {},
   "outputs": [],
   "source": [
    "from sklearn.svm import SVC\n",
    "from sklearn.metrics import classification_report, confusion_matrix\n",
    "from sklearn.metrics import accuracy_score"
   ]
  },
  {
   "cell_type": "code",
   "execution_count": 23,
   "id": "d4bf8030",
   "metadata": {},
   "outputs": [],
   "source": [
    "from sklearn.model_selection import train_test_split\n",
    "X_train, X_test, y_train, y_test = train_test_split(X, y, test_size = 0.20)"
   ]
  },
  {
   "cell_type": "code",
   "execution_count": 34,
   "id": "25a6f2b8",
   "metadata": {},
   "outputs": [
    {
     "name": "stdout",
     "output_type": "stream",
     "text": [
      "classification error rate for degree 1 is:  0.033333333333333326\n",
      "classification error rate for degree 2 is:  0.0\n",
      "classification error rate for degree 3 is:  0.033333333333333326\n",
      "classification error rate for degree 4 is:  0.0\n",
      "classification error rate for degree 5 is:  0.0\n",
      "classification error rate for degree 6 is:  0.0\n",
      "classification error rate for degree 7 is:  0.0\n",
      "classification error rate for degree 8 is:  0.0\n",
      "classification error rate for degree 9 is:  0.033333333333333326\n",
      "classification error rate for degree 10 is:  0.033333333333333326\n"
     ]
    }
   ],
   "source": [
    "for deg in range(1,11):\n",
    "    svclassifier = SVC(kernel='poly', degree = deg)\n",
    "    svclassifier.fit(X_train, y_train)\n",
    "    y_pred = svclassifier.predict(X_test)\n",
    "    my_accuracy = accuracy_score(y_test, y_pred, normalize=False) / float(y_test.size)\n",
    "    error_rate = 1 - my_accuracy\n",
    "    print('classification error rate for degree', deg, \"is: \",error_rate)\n",
    "# print(confusion_matrix(y_test, y_pred))\n",
    "# print(classification_report(y_test, y_pred))"
   ]
  },
  {
   "cell_type": "markdown",
   "id": "8d994211",
   "metadata": {},
   "source": [
    "2"
   ]
  },
  {
   "cell_type": "code",
   "execution_count": 35,
   "id": "a8e42a04",
   "metadata": {},
   "outputs": [],
   "source": [
    "svclassifier = SVC(kernel='poly', degree = 2)\n",
    "svclassifier.fit(X_train, y_train)\n",
    "y_pred = svclassifier.predict(X_test)"
   ]
  },
  {
   "cell_type": "code",
   "execution_count": 36,
   "id": "d6e336b3",
   "metadata": {},
   "outputs": [],
   "source": [
    "confusion_matrix = pd.crosstab(y_test,y_pred, rownames=['Actual'], colnames=['Predicted'])"
   ]
  },
  {
   "cell_type": "code",
   "execution_count": 37,
   "id": "ecfcbfcf",
   "metadata": {},
   "outputs": [
    {
     "data": {
      "image/png": "[encoded data removed]",
      "text/plain": [
       "<Figure size 640x480 with 2 Axes>"
      ]
     },
     "metadata": {},
     "output_type": "display_data"
    }
   ],
   "source": [
    "sn.heatmap(confusion_matrix, annot=True)\n",
    "plt.show()"
   ]
  },
  {
   "cell_type": "markdown",
   "id": "1cf7e4ef",
   "metadata": {},
   "source": [
    "The optimal degree for polynomial models are 2, 4, 5, 6, 7, and 8. All the records will be accurately predicted with this method. So it performs better than part A."
   ]
  },
  {
   "cell_type": "code",
   "execution_count": null,
   "id": "dea01b21",
   "metadata": {},
   "outputs": [],
   "source": []
  }
 ],
 "metadata": {
  "kernelspec": {
   "display_name": "Python 3 (ipykernel)",
   "language": "python",
   "name": "python3"
  },
  "language_info": {
   "codemirror_mode": {
    "name": "ipython",
    "version": 3
   },
   "file_extension": ".py",
   "mimetype": "text/x-python",
   "name": "python",
   "nbconvert_exporter": "python",
   "pygments_lexer": "ipython3",
   "version": "3.10.6"
  }
 },
 "nbformat": 4,
 "nbformat_minor": 5
}
